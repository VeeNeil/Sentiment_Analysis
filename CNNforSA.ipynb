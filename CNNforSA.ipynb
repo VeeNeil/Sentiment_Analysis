{
 "cells": [
  {
   "cell_type": "code",
   "execution_count": 1,
   "metadata": {
    "ExecuteTime": {
     "end_time": "2023-10-10T22:26:40.543129Z",
     "start_time": "2023-10-10T22:26:40.458287Z"
    },
    "collapsed": true
   },
   "outputs": [
    {
     "ename": "ModuleNotFoundError",
     "evalue": "No module named 'keras'",
     "output_type": "error",
     "traceback": [
      "\u001b[0;31m---------------------------------------------------------------------------\u001b[0m",
      "\u001b[0;31mModuleNotFoundError\u001b[0m                       Traceback (most recent call last)",
      "\u001b[1;32m/home/neil/Documents/SA/Sentiment_Analysis/CNNforSA.ipynb Cell 1\u001b[0m line \u001b[0;36m1\n\u001b[0;32m----> <a href='vscode-notebook-cell:/home/neil/Documents/SA/Sentiment_Analysis/CNNforSA.ipynb#W0sZmlsZQ%3D%3D?line=0'>1</a>\u001b[0m \u001b[39mimport\u001b[39;00m \u001b[39mkeras\u001b[39;00m\u001b[39m.\u001b[39;00m\u001b[39mutils\u001b[39;00m\n\u001b[1;32m      <a href='vscode-notebook-cell:/home/neil/Documents/SA/Sentiment_Analysis/CNNforSA.ipynb#W0sZmlsZQ%3D%3D?line=1'>2</a>\u001b[0m \u001b[39mfrom\u001b[39;00m \u001b[39msklearn\u001b[39;00m\u001b[39m.\u001b[39;00m\u001b[39mpreprocessing\u001b[39;00m \u001b[39mimport\u001b[39;00m LabelEncoder\n\u001b[1;32m      <a href='vscode-notebook-cell:/home/neil/Documents/SA/Sentiment_Analysis/CNNforSA.ipynb#W0sZmlsZQ%3D%3D?line=2'>3</a>\u001b[0m \u001b[39mfrom\u001b[39;00m \u001b[39mkeras\u001b[39;00m\u001b[39m.\u001b[39;00m\u001b[39mpreprocessing\u001b[39;00m \u001b[39mimport\u001b[39;00m sequence\n",
      "\u001b[0;31mModuleNotFoundError\u001b[0m: No module named 'keras'"
     ]
    }
   ],
   "source": [
    "import keras.utils\n",
    "from sklearn.preprocessing import LabelEncoder\n",
    "from keras.preprocessing import sequence\n",
    "from keras.models import Sequential\n",
    "from keras.layers import LSTM, Embedding, Dense, Conv1D, GlobalMaxPooling1D\n",
    "from keras.preprocessing.text import Tokenizer\n",
    "from keras.losses import binary_crossentropy\n",
    "from sklearn.metrics import roc_curve, roc_auc_score\n",
    "import matplotlib.pyplot as plt\n",
    "from sklearn.metrics import classification_report\n",
    "import pandas as pd\n",
    "import numpy as np\n",
    "from sklearn.model_selection import train_test_split\n",
    "from keras.layers import Bidirectional, LSTM\n",
    "from keras.layers import Dropout\n",
    "from keras.callbacks import EarlyStopping\n",
    "from sklearn.metrics import roc_curve, roc_auc_score\n",
    "from sklearn.base import BaseEstimator\n",
    "# from wittgenstein import RIPPER\n",
    "# from wittgenstein.interpret import interpret_model, score_fidelity"
   ]
  },
  {
   "cell_type": "code",
   "execution_count": 27,
   "metadata": {
    "ExecuteTime": {
     "end_time": "2023-10-10T22:26:40.557129Z",
     "start_time": "2023-10-10T22:26:40.548143Z"
    },
    "collapsed": false
   },
   "outputs": [],
   "source": []
  },
  {
   "cell_type": "code",
   "execution_count": 28,
   "metadata": {
    "ExecuteTime": {
     "end_time": "2023-10-10T22:26:40.926026Z",
     "start_time": "2023-10-10T22:26:40.569288Z"
    },
    "collapsed": false
   },
   "outputs": [],
   "source": [
    "label_encoder = LabelEncoder()\n",
    "combined_data = pd.read_csv('combined_data.csv')\n",
    "X = combined_data['Nhận xét đánh giá'].values\n",
    "y = combined_data['Cảm xúc'].values\n",
    "combined_data['Nhận xét đánh giá'] = combined_data['Nhận xét đánh giá'].astype(str)\n",
    "\n",
    "X_train, X_val, y_train, y_val = train_test_split(X, y, test_size=0.2, random_state=42)\n",
    "\n",
    "# Encode the labels\n",
    "y_train = label_encoder.fit_transform(y_train)\n",
    "y_val = label_encoder.transform(y_val)\n"
   ]
  },
  {
   "cell_type": "code",
   "execution_count": 28,
   "metadata": {
    "ExecuteTime": {
     "end_time": "2023-10-10T22:26:40.943024Z",
     "start_time": "2023-10-10T22:26:40.924029Z"
    },
    "collapsed": false
   },
   "outputs": [],
   "source": []
  },
  {
   "cell_type": "code",
   "execution_count": 29,
   "metadata": {
    "ExecuteTime": {
     "end_time": "2023-10-10T22:26:41.837117Z",
     "start_time": "2023-10-10T22:26:40.940038Z"
    },
    "collapsed": false
   },
   "outputs": [],
   "source": [
    "max_words = 5000  # Maximum number of words to consider\n",
    "max_len = 1000  # Maximum length of a sequence\n",
    "\n",
    "# Tokenize and pad sequences\n",
    "tokenizer = Tokenizer(num_words=max_words)\n",
    "tokenizer.fit_on_texts(X_train)\n",
    "X_train_seq = tokenizer.texts_to_sequences(X_train)\n",
    "X_val_seq = tokenizer.texts_to_sequences(X_val)\n",
    "X_train_seq = keras.utils.pad_sequences(X_train_seq, maxlen=max_len)\n",
    "X_val_seq = keras.utils.pad_sequences(X_val_seq, maxlen=max_len)"
   ]
  },
  {
   "cell_type": "code",
   "execution_count": 30,
   "metadata": {
    "ExecuteTime": {
     "end_time": "2023-10-10T22:26:42.637117Z",
     "start_time": "2023-10-10T22:26:41.683119Z"
    },
    "collapsed": false
   },
   "outputs": [],
   "source": [
    "embedding_dim = 120  # Dimensionality of word embeddings\n",
    "num_filters = 128  # Number of filters in the convolutional layer\n",
    "kernel_size = 5\n",
    "num_classes = len(label_encoder.classes_)  # Number of output classes\n",
    "model = Sequential()\n",
    "model.add(Embedding(max_words, embedding_dim, input_length=max_len))\n",
    "model.add(Conv1D(num_filters, kernel_size, activation='relu'))\n",
    "model.add(GlobalMaxPooling1D())\n",
    "model.add(Dense(num_classes, activation='softmax'))\n",
    "\n",
    "model.compile(loss='sparse_categorical_crossentropy', optimizer='adam', metrics=['accuracy'])\n",
    "\n",
    "\n"
   ]
  },
  {
   "cell_type": "code",
   "execution_count": 31,
   "metadata": {
    "ExecuteTime": {
     "end_time": "2023-10-10T22:42:51.257976Z",
     "start_time": "2023-10-10T22:26:42.099118Z"
    },
    "collapsed": false
   },
   "outputs": [
    {
     "name": "stdout",
     "output_type": "stream",
     "text": [
      "Epoch 1/10\n",
      "232/232 [==============================] - 71s 303ms/step - loss: 1.2032 - accuracy: 0.5536 - val_loss: 0.8930 - val_accuracy: 0.6851\n",
      "Epoch 2/10\n",
      "232/232 [==============================] - 83s 356ms/step - loss: 0.8162 - accuracy: 0.7048 - val_loss: 0.7977 - val_accuracy: 0.7080\n",
      "Epoch 3/10\n",
      "232/232 [==============================] - 91s 392ms/step - loss: 0.7092 - accuracy: 0.7415 - val_loss: 0.7770 - val_accuracy: 0.7096\n",
      "Epoch 4/10\n",
      "232/232 [==============================] - 93s 402ms/step - loss: 0.6332 - accuracy: 0.7711 - val_loss: 0.7681 - val_accuracy: 0.7145\n",
      "Epoch 5/10\n",
      "232/232 [==============================] - 95s 411ms/step - loss: 0.5692 - accuracy: 0.7953 - val_loss: 0.7762 - val_accuracy: 0.7158\n",
      "Epoch 6/10\n",
      "232/232 [==============================] - 98s 423ms/step - loss: 0.5122 - accuracy: 0.8201 - val_loss: 0.7921 - val_accuracy: 0.7102\n",
      "Epoch 7/10\n",
      "232/232 [==============================] - 102s 440ms/step - loss: 0.4623 - accuracy: 0.8413 - val_loss: 0.8226 - val_accuracy: 0.7059\n",
      "Epoch 8/10\n",
      "232/232 [==============================] - 104s 446ms/step - loss: 0.4191 - accuracy: 0.8583 - val_loss: 0.8389 - val_accuracy: 0.7021\n",
      "Epoch 9/10\n",
      "232/232 [==============================] - 107s 461ms/step - loss: 0.3829 - accuracy: 0.8688 - val_loss: 0.8862 - val_accuracy: 0.7010\n",
      "Epoch 10/10\n",
      "232/232 [==============================] - 125s 540ms/step - loss: 0.3527 - accuracy: 0.8816 - val_loss: 0.9137 - val_accuracy: 0.6994\n"
     ]
    },
    {
     "data": {
      "text/plain": [
       "<keras.callbacks.History at 0x164e5aca100>"
      ]
     },
     "execution_count": 31,
     "metadata": {},
     "output_type": "execute_result"
    }
   ],
   "source": [
    "batch_size = 64\n",
    "epochs = 10\n",
    "\n",
    "model.fit(X_train_seq, y_train, batch_size=batch_size, epochs=epochs, validation_data=(X_val_seq, y_val))\n"
   ]
  },
  {
   "cell_type": "code",
   "execution_count": 32,
   "metadata": {
    "ExecuteTime": {
     "end_time": "2023-10-10T22:42:59.019521Z",
     "start_time": "2023-10-10T22:42:51.258976Z"
    },
    "collapsed": false
   },
   "outputs": [
    {
     "name": "stdout",
     "output_type": "stream",
     "text": [
      "116/116 [==============================] - 8s 66ms/step - loss: 0.9137 - accuracy: 0.6994\n",
      "Validation loss: 0.9136828780174255\n",
      "Validation accuracy: 0.6993798613548279\n"
     ]
    }
   ],
   "source": [
    "loss, accuracy = model.evaluate(X_val_seq, y_val)\n",
    "print(f\"Validation loss: {loss}\")\n",
    "print(f\"Validation accuracy: {accuracy}\")"
   ]
  },
  {
   "cell_type": "code",
   "execution_count": 33,
   "metadata": {
    "ExecuteTime": {
     "end_time": "2023-09-21T10:30:15.310320Z",
     "start_time": "2023-09-21T10:30:11.477800Z"
    },
    "collapsed": false
   },
   "outputs": [
    {
     "ename": "NameError",
     "evalue": "name 'padded_sequences' is not defined",
     "output_type": "error",
     "traceback": [
      "\u001b[1;31m---------------------------------------------------------------------------\u001b[0m",
      "\u001b[1;31mNameError\u001b[0m                                 Traceback (most recent call last)",
      "Cell \u001b[1;32mIn[33], line 1\u001b[0m\n\u001b[1;32m----> 1\u001b[0m predictions \u001b[38;5;241m=\u001b[39m model\u001b[38;5;241m.\u001b[39mpredict(\u001b[43mpadded_sequences\u001b[49m)\n\u001b[0;32m      3\u001b[0m cnn_feature_extractor \u001b[38;5;241m=\u001b[39m Sequential()\n\u001b[0;32m      4\u001b[0m cnn_feature_extractor\u001b[38;5;241m.\u001b[39madd(model\u001b[38;5;241m.\u001b[39mlayers[\u001b[38;5;241m0\u001b[39m])  \u001b[38;5;66;03m# Add layers up to the desired intermediate layer\u001b[39;00m\n",
      "\u001b[1;31mNameError\u001b[0m: name 'padded_sequences' is not defined"
     ]
    }
   ],
   "source": [
    "# predictions = model.predict(padded_sequences)\n",
    "\n",
    "# cnn_feature_extractor = Sequential()\n",
    "# cnn_feature_extractor.add(model.layers[0])  # Add layers up to the desired intermediate layer\n",
    "# cnn_feature_extractor.add(model.layers[1])  \n",
    "\n",
    "# X_train_cnn_features = cnn_feature_extractor.predict(X_train_seq)\n",
    "# X_val_cnn_features = cnn_feature_extractor.predict(X_val_seq)\n",
    "\n",
    "# # 3. Train the RIPPER model on the extracted features\n",
    "# ripper_classifier = RIPPER()\n",
    "# ripper_classifier.fit(X_train_cnn_features, y_train)\n",
    "\n",
    "# # 4. Combine predictions from CNN and RIPPER (you can adjust this part as needed)\n",
    "# cnn_predictions = model.predict(X_val_seq)\n",
    "# ripper_predictions = ripper_classifier.predict(X_val_cnn_features)\n",
    "\n",
    "# # You can use some combination strategy to merge predictions (e.g., weighted average)\n",
    "# combined_predictions = 0.7 * cnn_predictions + 0.3 * ripper_predictions\n",
    "\n",
    "# # Evaluate the combined predictions\n",
    "# combined_loss, combined_accuracy = model.evaluate(X_val_seq, combined_predictions)\n",
    "# print(f\"Combined Validation loss: {combined_loss}\")\n",
    "# print(f\"Combined Validation accuracy: {combined_accuracy}\")"
   ]
  },
  {
   "cell_type": "code",
   "execution_count": null,
   "metadata": {
    "ExecuteTime": {
     "end_time": "2023-09-21T23:18:00.521246Z",
     "start_time": "2023-09-21T23:17:50.417746Z"
    },
    "collapsed": false
   },
   "outputs": [],
   "source": [
    "y_pred = model.predict(X_val_seq)\n",
    "# Convert numerical labels to original labels\n",
    "y_pred_labels = np.argmax(y_pred, axis=1)\n",
    "y_pred_labels = label_encoder.inverse_transform(y_pred_labels)\n",
    "\n",
    "# Convert true labels to original labels\n",
    "y_val_labels = label_encoder.inverse_transform(y_val)\n",
    "\n",
    "# Generate classification report\n",
    "report = classification_report(y_val_labels, y_pred_labels)\n",
    "print(report)"
   ]
  },
  {
   "cell_type": "code",
   "execution_count": null,
   "metadata": {
    "ExecuteTime": {
     "end_time": "2023-09-21T10:28:26.079319Z",
     "start_time": "2023-09-21T10:28:26.036693Z"
    },
    "collapsed": false
   },
   "outputs": [],
   "source": []
  }
 ],
 "metadata": {
  "kernelspec": {
   "display_name": "Python 3",
   "language": "python",
   "name": "python3"
  },
  "language_info": {
   "codemirror_mode": {
    "name": "ipython",
    "version": 3
   },
   "file_extension": ".py",
   "mimetype": "text/x-python",
   "name": "python",
   "nbconvert_exporter": "python",
   "pygments_lexer": "ipython3",
   "version": "3.10.12"
  }
 },
 "nbformat": 4,
 "nbformat_minor": 0
}
