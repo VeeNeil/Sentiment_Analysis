{
 "cells": [
  {
   "cell_type": "code",
   "execution_count": 1,
   "metadata": {
    "ExecuteTime": {
     "end_time": "2023-09-22T07:21:14.538889Z",
     "start_time": "2023-09-22T07:21:07.899613Z"
    },
    "collapsed": true
   },
   "outputs": [],
   "source": [
    "import keras.utils\n",
    "from sklearn.preprocessing import LabelEncoder\n",
    "from keras.models import Sequential\n",
    "from keras.layers import Embedding, Dense, Conv1D, GlobalMaxPooling1D\n",
    "from keras.preprocessing.text import Tokenizer\n",
    "from sklearn.metrics import classification_report\n",
    "import pandas as pd\n",
    "import numpy as np"
   ]
  },
  {
   "cell_type": "code",
   "execution_count": 2,
   "metadata": {
    "ExecuteTime": {
     "end_time": "2023-09-22T07:23:03.288869Z",
     "start_time": "2023-09-22T07:23:03.180840Z"
    },
    "collapsed": false
   },
   "outputs": [],
   "source": [
    "label_encoder = LabelEncoder()\n",
    "train_df = 'synthetic_train.csv'\n",
    "val_df = 'synthetic_train.csv'\n",
    "# Dữ liệu huấn luyện\n",
    "train_data = pd.read_csv(train_df)\n",
    "X_train = train_data['sentence'].values  # Cột chứa văn bản\n",
    "y_train = train_data['sentiment'].values  # Cột chứa cảm xúc\n",
    "# Dữ liệu xác thực\n",
    "val_data = pd.read_csv(val_df)\n",
    "X_val = train_data['sentence'].values  # Cột chứa văn bản\n",
    "y_val = train_data['sentiment'].values  # Cột chứa cảm xúc\n",
    "\n",
    "# Mã hóa nhãn thành dạng số\n",
    "y_train = label_encoder.fit_transform(y_train)\n",
    "y_val = label_encoder.transform(y_val)"
   ]
  },
  {
   "cell_type": "code",
   "execution_count": 3,
   "metadata": {
    "ExecuteTime": {
     "end_time": "2023-09-22T07:23:05.341511Z",
     "start_time": "2023-09-22T07:23:04.075837Z"
    },
    "collapsed": false
   },
   "outputs": [],
   "source": [
    "\n",
    "max_words = 5000  # Số từ tối đa được xem xét\n",
    "max_len = 1000  # Độ dài tối đa của một chuỗi\n",
    "\n",
    "# Tokenize\n",
    "tokenizer = Tokenizer(num_words=max_words)\n",
    "tokenizer.fit_on_texts(X_train)\n",
    "X_train_seq = tokenizer.texts_to_sequences(X_train)\n",
    "X_val_seq = tokenizer.texts_to_sequences(X_val)\n",
    "X_train_seq = keras.utils.pad_sequences(X_train_seq, maxlen=max_len)\n",
    "X_val_seq = keras.utils.pad_sequences(X_val_seq, maxlen=max_len)\n",
    "embedding_dim = 120  # Kích thước của embedding cho từ\n",
    "num_filters = 128  # Số lượng bộ lọc trong lớp tích chập\n",
    "kernel_size = 5\n",
    "num_classes = len(label_encoder.classes_)  # Số lượng lớp đầu ra\n",
    "model = Sequential()\n",
    "model.add(Embedding(max_words, embedding_dim, input_length=max_len))\n",
    "model.add(Conv1D(num_filters, kernel_size, activation='relu'))\n",
    "model.add(GlobalMaxPooling1D())\n",
    "model.add(Dense(num_classes, activation='softmax'))\n",
    "\n",
    "model.compile(loss='sparse_categorical_crossentropy', optimizer='adam', metrics=['accuracy'])"
   ]
  },
  {
   "cell_type": "code",
   "execution_count": 4,
   "metadata": {
    "ExecuteTime": {
     "end_time": "2023-09-22T07:30:21.745715Z",
     "start_time": "2023-09-22T07:23:05.444514Z"
    },
    "collapsed": false
   },
   "outputs": [
    {
     "name": "stdout",
     "output_type": "stream",
     "text": [
      "Epoch 1/10\n",
      "128/128 [==============================] - 46s 348ms/step - loss: 0.6842 - accuracy: 0.7238 - val_loss: 0.4174 - val_accuracy: 0.8195\n",
      "Epoch 2/10\n",
      "128/128 [==============================] - 42s 324ms/step - loss: 0.3792 - accuracy: 0.8340 - val_loss: 0.2934 - val_accuracy: 0.8847\n",
      "Epoch 3/10\n",
      "128/128 [==============================] - 41s 324ms/step - loss: 0.2939 - accuracy: 0.8761 - val_loss: 0.2393 - val_accuracy: 0.9082\n",
      "Epoch 4/10\n",
      "128/128 [==============================] - 42s 325ms/step - loss: 0.2366 - accuracy: 0.9042 - val_loss: 0.1799 - val_accuracy: 0.9401\n",
      "Epoch 5/10\n",
      "128/128 [==============================] - 42s 330ms/step - loss: 0.1851 - accuracy: 0.9315 - val_loss: 0.1388 - val_accuracy: 0.9571\n",
      "Epoch 6/10\n",
      "128/128 [==============================] - 46s 360ms/step - loss: 0.1473 - accuracy: 0.9487 - val_loss: 0.1030 - val_accuracy: 0.9740\n",
      "Epoch 7/10\n",
      "128/128 [==============================] - 47s 366ms/step - loss: 0.1121 - accuracy: 0.9671 - val_loss: 0.0746 - val_accuracy: 0.9838\n",
      "Epoch 8/10\n",
      "128/128 [==============================] - 44s 346ms/step - loss: 0.0831 - accuracy: 0.9783 - val_loss: 0.0673 - val_accuracy: 0.9849\n",
      "Epoch 9/10\n",
      "128/128 [==============================] - 42s 332ms/step - loss: 0.0643 - accuracy: 0.9843 - val_loss: 0.0437 - val_accuracy: 0.9925\n",
      "Epoch 10/10\n",
      "128/128 [==============================] - 44s 347ms/step - loss: 0.0483 - accuracy: 0.9899 - val_loss: 0.0313 - val_accuracy: 0.9964\n"
     ]
    },
    {
     "data": {
      "text/plain": [
       "<keras.callbacks.History at 0x2867c2d1af0>"
      ]
     },
     "execution_count": 4,
     "metadata": {},
     "output_type": "execute_result"
    }
   ],
   "source": [
    "\n",
    "batch_size = 64\n",
    "epochs = 10\n",
    "\n",
    "model.fit(X_train_seq, y_train, batch_size=batch_size, epochs=epochs, validation_data=(X_val_seq, y_val))"
   ]
  },
  {
   "cell_type": "code",
   "execution_count": 5,
   "metadata": {
    "ExecuteTime": {
     "end_time": "2023-09-22T07:53:31.515657Z",
     "start_time": "2023-09-22T07:53:21.928865Z"
    },
    "collapsed": false
   },
   "outputs": [
    {
     "name": "stdout",
     "output_type": "stream",
     "text": [
      "255/255 [==============================] - 9s 35ms/step - loss: 0.0313 - accuracy: 0.9964\n",
      "Mất mát trên tập xác thực: 0.0312768928706646\n",
      "Độ chính xác trên tập xác thực: 0.9964390993118286\n"
     ]
    }
   ],
   "source": [
    "\n",
    "loss, accuracy = model.evaluate(X_val_seq, y_val)\n",
    "print(f\"Mất mát trên tập xác thực: {loss}\")\n",
    "print(f\"Độ chính xác trên tập xác thực: {accuracy}\")\n"
   ]
  },
  {
   "cell_type": "code",
   "execution_count": 6,
   "metadata": {
    "ExecuteTime": {
     "end_time": "2023-09-22T08:46:00.508809Z",
     "start_time": "2023-09-22T08:45:48.169752Z"
    },
    "collapsed": false
   },
   "outputs": [
    {
     "name": "stdout",
     "output_type": "stream",
     "text": [
      "255/255 [==============================] - 12s 43ms/step\n",
      "              precision    recall  f1-score   support\n",
      "\n",
      " bình thường       0.99      1.00      0.99      2724\n",
      "          tệ       1.00      1.00      1.00      2712\n",
      "         tốt       1.00      0.99      0.99      2708\n",
      "\n",
      "    accuracy                           1.00      8144\n",
      "   macro avg       1.00      1.00      1.00      8144\n",
      "weighted avg       1.00      1.00      1.00      8144\n",
      "\n"
     ]
    }
   ],
   "source": [
    "y_pred = model.predict(X_val_seq)\n",
    "# Convert numerical labels to original labels\n",
    "y_pred_labels = np.argmax(y_pred, axis=1)\n",
    "y_pred_labels = label_encoder.inverse_transform(y_pred_labels)\n",
    "\n",
    "# Convert true labels to original labels\n",
    "y_val_labels = label_encoder.inverse_transform(y_val)\n",
    "\n",
    "# Generate classification report\n",
    "report = classification_report(y_val_labels, y_pred_labels)\n",
    "print(report)"
   ]
  },
  {
   "cell_type": "code",
   "execution_count": 11,
   "metadata": {
    "ExecuteTime": {
     "end_time": "2023-09-22T09:14:59.663017Z",
     "start_time": "2023-09-22T09:14:59.576019Z"
    },
    "collapsed": false
   },
   "outputs": [
    {
     "name": "stdout",
     "output_type": "stream",
     "text": [
      "1/1 [==============================] - 0s 25ms/step\n",
      "Predicted Sentiment: tốt\n"
     ]
    }
   ],
   "source": [
    "custom_text = \"rất tuyệt vời\"\n",
    "\n",
    "# Tokenize and pad the custom text\n",
    "custom_text_seq = tokenizer.texts_to_sequences([custom_text])\n",
    "custom_text_seq = keras.utils.pad_sequences(custom_text_seq, maxlen=max_len)\n",
    "\n",
    "# Make predictions on the custom text\n",
    "custom_text_pred = model.predict(custom_text_seq)\n",
    "\n",
    "# Convert numerical labels to original labels\n",
    "custom_text_pred_label = np.argmax(custom_text_pred, axis=1)\n",
    "custom_text_pred_label = label_encoder.inverse_transform(custom_text_pred_label)\n",
    "\n",
    "# Print the predicted label\n",
    "print(f\"Predicted Sentiment: {custom_text_pred_label[0]}\")"
   ]
  },
  {
   "cell_type": "code",
   "execution_count": 13,
   "metadata": {
    "ExecuteTime": {
     "end_time": "2023-09-22T10:19:53.842833Z",
     "start_time": "2023-09-22T10:19:53.795834Z"
    },
    "collapsed": false
   },
   "outputs": [],
   "source": [
    "model.save('CNN_UIT.h5')"
   ]
  },
  {
   "cell_type": "code",
   "execution_count": null,
   "metadata": {
    "collapsed": false
   },
   "outputs": [],
   "source": []
  }
 ],
 "metadata": {
  "kernelspec": {
   "display_name": "Python 3",
   "language": "python",
   "name": "python3"
  },
  "language_info": {
   "codemirror_mode": {
    "name": "ipython",
    "version": 2
   },
   "file_extension": ".py",
   "mimetype": "text/x-python",
   "name": "python",
   "nbconvert_exporter": "python",
   "pygments_lexer": "ipython2",
   "version": "3.10.12"
  }
 },
 "nbformat": 4,
 "nbformat_minor": 0
}
