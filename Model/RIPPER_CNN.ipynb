{
 "cells": [
  {
   "cell_type": "code",
   "execution_count": 12,
   "metadata": {
    "ExecuteTime": {
     "end_time": "2023-10-13T10:54:01.854022Z",
     "start_time": "2023-10-13T10:54:01.805027Z"
    },
    "collapsed": true
   },
   "outputs": [],
   "source": [
    "import keras.utils\n",
    "from sklearn.preprocessing import LabelEncoder\n",
    "from keras.models import Sequential\n",
    "from keras.layers import Embedding, Dense, Conv1D, GlobalMaxPooling1D\n",
    "from keras.preprocessing.text import Tokenizer\n",
    "import pandas as pd\n",
    "from imblearn.over_sampling import BorderlineSMOTE\n",
    "from sklearn.model_selection import train_test_split\n",
    "from keras.utils import pad_sequences\n",
    "import numpy as np\n",
    "from sklearn.metrics import classification_report\n",
    "from collections import Counter\n",
    "import joblib\n",
    "import tensorflow as tf"
   ]
  },
  {
   "cell_type": "code",
   "execution_count": 3,
   "metadata": {
    "ExecuteTime": {
     "end_time": "2023-10-13T14:40:35.043351Z",
     "start_time": "2023-10-13T14:40:34.961375Z"
    },
    "collapsed": false
   },
   "outputs": [],
   "source": [
    "data = pd.read_csv('../ds/HuTrain/combined_data.csv')\n",
    "\n",
    "# Split the data into features (X) and labels (y)\n",
    "X = data['Nhận xét đánh giá'].values\n",
    "y = data['Cảm xúc'].values\n",
    "label_encoder = LabelEncoder()\n",
    "\n",
    "# Encode the labels\n",
    "y_encoded = label_encoder.fit_transform(y)\n",
    "\n",
    "\n",
    "# Split the data into training and validation sets\n",
    "X_train, X_val, y_train, y_val = train_test_split(X, y_encoded, test_size=0.2, random_state=132)\n",
    "\n"
   ]
  },
  {
   "cell_type": "code",
   "execution_count": 4,
   "metadata": {
    "ExecuteTime": {
     "end_time": "2023-10-13T10:00:09.773933Z",
     "start_time": "2023-10-13T09:59:37.320798Z"
    },
    "collapsed": false
   },
   "outputs": [],
   "source": [
    "borderline_smote = BorderlineSMOTE(sampling_strategy='auto', random_state=132)\n",
    "\n",
    "max_words = 5000\n",
    "max_len = 1000\n",
    "tokenizer = Tokenizer(num_words=max_words)\n",
    "tokenizer.fit_on_texts(X_train)\n",
    "\n",
    "X_train_seq = tokenizer.texts_to_sequences(X_train)\n",
    "X_val_seq = tokenizer.texts_to_sequences(X_val)\n",
    "\n",
    "X_train_seq = pad_sequences(X_train_seq, maxlen=max_len)\n",
    "X_val_seq = pad_sequences(X_val_seq, maxlen=max_len)\n",
    "X_train_resampled, y_train_resampled = borderline_smote.fit_resample(X_train_seq, y_train)"
   ]
  },
  {
   "cell_type": "code",
   "execution_count": 5,
   "metadata": {
    "ExecuteTime": {
     "end_time": "2023-10-12T07:30:20.018666Z",
     "start_time": "2023-10-12T07:30:19.869024Z"
    },
    "collapsed": false
   },
   "outputs": [
    {
     "name": "stdout",
     "output_type": "stream",
     "text": [
      "Class Distribution Before SMOTE:\n",
      "Class 4: 2993 samples\n",
      "Class 3: 2607 samples\n",
      "Class 5: 3587 samples\n",
      "Class 0: 3938 samples\n",
      "Class 1: 912 samples\n",
      "Class 2: 1251 samples\n",
      "\n",
      "Class Distribution After SMOTE:\n",
      "Class 4: 3938 samples\n",
      "Class 3: 3938 samples\n",
      "Class 5: 3938 samples\n",
      "Class 0: 3938 samples\n",
      "Class 1: 3938 samples\n",
      "Class 2: 3938 samples\n"
     ]
    }
   ],
   "source": [
    "class_distribution_before_SMOTE = Counter(y_train)\n",
    "\n",
    "class_distribution_after_SMOTE = Counter(y_train_resampled)\n",
    "\n",
    "print(\"Class Distribution Before SMOTE:\")\n",
    "for label, count in class_distribution_before_SMOTE.items():\n",
    "    print(f\"Class {label}: {count} samples\")\n",
    "\n",
    "# Print class distribution after SMOTE\n",
    "print(\"\\nClass Distribution After SMOTE:\")\n",
    "for label, count in class_distribution_after_SMOTE.items():\n",
    "    print(f\"Class {label}: {count} samples\")"
   ]
  },
  {
   "cell_type": "code",
   "execution_count": 6,
   "metadata": {
    "ExecuteTime": {
     "end_time": "2023-10-12T08:14:46.738837Z",
     "start_time": "2023-10-12T08:14:46.660840Z"
    },
    "collapsed": false
   },
   "outputs": [],
   "source": [
    "\n",
    "# Build and compile your CNN model\n",
    "embedding_dim = 120\n",
    "num_filters = 128\n",
    "kernel_size = 5\n",
    "num_classes = len(np.unique(y_train_resampled))\n",
    "model = Sequential()\n",
    "model.add(Embedding(max_words, embedding_dim, input_length=max_len))\n",
    "model.add(Conv1D(num_filters, kernel_size, activation='relu'))\n",
    "model.add(GlobalMaxPooling1D())\n",
    "model.add(Dense(num_classes, activation='softmax'))\n",
    "\n",
    "optimizer = keras.optimizers.Adam(learning_rate=0.0007)\n",
    "model.compile(loss='sparse_categorical_crossentropy', optimizer=optimizer, metrics=['accuracy'])"
   ]
  },
  {
   "cell_type": "code",
   "execution_count": 8,
   "metadata": {
    "ExecuteTime": {
     "end_time": "2023-10-12T11:57:03.770600Z",
     "start_time": "2023-10-12T08:36:59.691748Z"
    },
    "collapsed": false
   },
   "outputs": [
    {
     "name": "stdout",
     "output_type": "stream",
     "text": [
      "Epoch 1/10\n"
     ]
    },
    {
     "name": "stdout",
     "output_type": "stream",
     "text": [
      "120/120 [==============================] - 106s 879ms/step - loss: 0.4866 - accuracy: 0.8309 - val_loss: 0.8097 - val_accuracy: 0.7099\n",
      "Epoch 2/10\n",
      "120/120 [==============================] - 107s 891ms/step - loss: 0.4593 - accuracy: 0.8407 - val_loss: 0.8273 - val_accuracy: 0.7091\n",
      "Epoch 3/10\n",
      "120/120 [==============================] - 106s 881ms/step - loss: 0.4364 - accuracy: 0.8488 - val_loss: 0.8458 - val_accuracy: 0.7091\n",
      "Epoch 4/10\n",
      "120/120 [==============================] - 106s 881ms/step - loss: 0.4132 - accuracy: 0.8601 - val_loss: 0.8544 - val_accuracy: 0.7078\n",
      "Epoch 5/10\n",
      "120/120 [==============================] - 107s 891ms/step - loss: 0.3934 - accuracy: 0.8664 - val_loss: 0.8725 - val_accuracy: 0.7086\n",
      "Epoch 6/10\n",
      "120/120 [==============================] - 107s 889ms/step - loss: 0.3748 - accuracy: 0.8736 - val_loss: 0.8931 - val_accuracy: 0.7002\n",
      "Epoch 7/10\n",
      "120/120 [==============================] - 105s 877ms/step - loss: 0.3592 - accuracy: 0.8791 - val_loss: 0.9032 - val_accuracy: 0.7057\n",
      "Epoch 8/10\n",
      "120/120 [==============================] - 106s 880ms/step - loss: 0.3446 - accuracy: 0.8814 - val_loss: 0.9315 - val_accuracy: 0.7026\n",
      "Epoch 9/10\n",
      "120/120 [==============================] - 105s 876ms/step - loss: 0.3321 - accuracy: 0.8880 - val_loss: 0.9375 - val_accuracy: 0.6984\n",
      "Epoch 10/10\n",
      "120/120 [==============================] - 104s 868ms/step - loss: 0.3212 - accuracy: 0.8905 - val_loss: 0.9552 - val_accuracy: 0.7021\n"
     ]
    },
    {
     "data": {
      "text/plain": [
       "<keras.src.callbacks.History at 0x7f9e4bcc51e0>"
      ]
     },
     "execution_count": 8,
     "metadata": {},
     "output_type": "execute_result"
    }
   ],
   "source": [
    "batch_size = 128\n",
    "epochs = 10\n",
    "\n",
    "model.fit(X_train_seq, y_train, batch_size=batch_size, epochs=epochs, validation_data=(X_val_seq, y_val))"
   ]
  },
  {
   "cell_type": "code",
   "execution_count": 9,
   "metadata": {
    "ExecuteTime": {
     "end_time": "2023-10-12T11:58:16.405902Z",
     "start_time": "2023-10-12T11:58:09.954253Z"
    },
    "collapsed": false
   },
   "outputs": [
    {
     "name": "stdout",
     "output_type": "stream",
     "text": [
      "120/120 [==============================] - 6s 48ms/step\n",
      "                 precision    recall  f1-score   support\n",
      "\n",
      "    bình thường       0.65      0.60      0.63       977\n",
      "không liên quan       0.96      0.96      0.96       230\n",
      "         rất tệ       0.76      0.76      0.76       325\n",
      "        rất tốt       0.62      0.56      0.59       632\n",
      "             tệ       0.87      0.85      0.86       789\n",
      "            tốt       0.59      0.70      0.64       870\n",
      "\n",
      "       accuracy                           0.70      3823\n",
      "      macro avg       0.74      0.74      0.74      3823\n",
      "   weighted avg       0.71      0.70      0.70      3823\n",
      "\n"
     ]
    }
   ],
   "source": [
    "y_pred = model.predict(X_val_seq)\n",
    "# Convert numerical labels to original labels\n",
    "y_pred_labels = np.argmax(y_pred, axis=1)\n",
    "y_pred_labels = label_encoder.inverse_transform(y_pred_labels)\n",
    "\n",
    "# Convert true labels to original labels\n",
    "y_val_labels = label_encoder.inverse_transform(y_val)\n",
    "\n",
    "# Generate classification report\n",
    "report = classification_report(y_val_labels, y_pred_labels)\n",
    "print(report)"
   ]
  },
  {
   "cell_type": "code",
   "execution_count": 18,
   "metadata": {
    "ExecuteTime": {
     "end_time": "2023-10-12T20:55:50.637263Z",
     "start_time": "2023-10-12T20:55:49.670078Z"
    },
    "collapsed": false
   },
   "outputs": [
    {
     "name": "stdout",
     "output_type": "stream",
     "text": [
      "INFO:tensorflow:Assets written to: ../saved_model/sentiment_model/assets\n"
     ]
    },
    {
     "name": "stderr",
     "output_type": "stream",
     "text": [
      "INFO:tensorflow:Assets written to: ../saved_model/sentiment_model/assets\n"
     ]
    }
   ],
   "source": [
    "model.save('../saved_model/sentiment_model')\n",
    "model.save('../saved_model/sentiment_model.keras')"
   ]
  },
  {
   "cell_type": "code",
   "execution_count": 17,
   "metadata": {
    "ExecuteTime": {
     "end_time": "2023-10-13T14:40:41.616216Z",
     "start_time": "2023-10-13T14:40:41.390217Z"
    },
    "collapsed": false
   },
   "outputs": [
    {
     "name": "stdout",
     "output_type": "stream",
     "text": [
      "1/1 [==============================] - ETA: 0s"
     ]
    },
    {
     "name": "stdout",
     "output_type": "stream",
     "text": [
      "1/1 [==============================] - 0s 33ms/step\n",
      "Predicted Sentiment: tệ\n"
     ]
    }
   ],
   "source": [
    "custom_text = \"thay giao day rat tuyet\"\n",
    "\n",
    "# Tokenize and pad the custom text\n",
    "custom_text_seq = tokenizer.texts_to_sequences([custom_text])\n",
    "custom_text_seq = keras.utils.pad_sequences(custom_text_seq, maxlen=max_len)\n",
    "\n",
    "# Make predictions on the custom text\n",
    "custom_text_pred = model.predict(custom_text_seq)\n",
    "\n",
    "# Convert numerical labels to original labels\n",
    "custom_text_pred_label = np.argmax(custom_text_pred, axis=1)\n",
    "custom_text_pred_label = label_encoder.inverse_transform(custom_text_pred_label)\n",
    "\n",
    "# Print the predicted label\n",
    "print(f\"Predicted Sentiment: {custom_text_pred_label[0]}\")"
   ]
  },
  {
   "cell_type": "code",
   "execution_count": 13,
   "metadata": {
    "ExecuteTime": {
     "end_time": "2023-10-13T14:41:55.216149Z",
     "start_time": "2023-10-13T14:41:54.997955Z"
    },
    "collapsed": false
   },
   "outputs": [
    {
     "name": "stdout",
     "output_type": "stream",
     "text": [
      "Model: \"sequential\"\n",
      "_________________________________________________________________\n",
      " Layer (type)                Output Shape              Param #   \n",
      "=================================================================\n",
      " embedding (Embedding)       (None, 1000, 120)         600000    \n",
      "                                                                 \n",
      " conv1d (Conv1D)             (None, 996, 128)          76928     \n",
      "                                                                 \n",
      " global_max_pooling1d (Glob  (None, 128)               0         \n",
      " alMaxPooling1D)                                                 \n",
      "                                                                 \n",
      " dense (Dense)               (None, 6)                 774       \n",
      "                                                                 \n",
      "=================================================================\n",
      "Total params: 677702 (2.59 MB)\n",
      "Trainable params: 677702 (2.59 MB)\n",
      "Non-trainable params: 0 (0.00 Byte)\n",
      "_________________________________________________________________\n"
     ]
    }
   ],
   "source": [
    "new_model = tf.keras.models.load_model('../saved_model/saved_model/sentiment_model')\n",
    "\n",
    "# Check its architecture\n",
    "new_model.summary()\n"
   ]
  },
  {
   "cell_type": "code",
   "execution_count": null,
   "metadata": {
    "collapsed": false
   },
   "outputs": [],
   "source": []
  }
 ],
 "metadata": {
  "kernelspec": {
   "display_name": "Python 3",
   "language": "python",
   "name": "python3"
  },
  "language_info": {
   "codemirror_mode": {
    "name": "ipython",
    "version": 3
   },
   "file_extension": ".py",
   "mimetype": "text/x-python",
   "name": "python",
   "nbconvert_exporter": "python",
   "pygments_lexer": "ipython3",
   "version": "3.10.12"
  }
 },
 "nbformat": 4,
 "nbformat_minor": 0
}
