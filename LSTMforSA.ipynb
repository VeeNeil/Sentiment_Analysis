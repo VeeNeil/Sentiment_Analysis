{
 "cells": [
  {
   "cell_type": "code",
   "execution_count": 5,
   "metadata": {
    "collapsed": true,
    "ExecuteTime": {
     "start_time": "2023-06-24T22:32:28.427244Z",
     "end_time": "2023-06-24T22:32:28.443243Z"
    }
   },
   "outputs": [],
   "source": [
    "import keras.utils\n",
    "from sklearn.preprocessing import LabelEncoder\n",
    "from keras.preprocessing import sequence\n",
    "from keras.models import Sequential\n",
    "from keras.layers import LSTM, Embedding, Dense, Conv1D, GlobalMaxPooling1D\n",
    "from keras.preprocessing.text import Tokenizer\n",
    "from keras.losses import binary_crossentropy\n",
    "from sklearn.metrics import roc_curve, roc_auc_score\n",
    "import matplotlib.pyplot as plt\n",
    "from sklearn.metrics import classification_report\n",
    "import pandas as pd\n",
    "import numpy as np"
   ]
  },
  {
   "cell_type": "code",
   "execution_count": 6,
   "outputs": [],
   "source": [
    "label_encoder = LabelEncoder()\n",
    "train_file = 'twitter_training.csv'\n",
    "val_file = 'twitter_validation.csv'\n",
    "#load data and specify the text column and the sentiment column\n",
    "#Train data\n",
    "train_data = pd.read_csv(train_file)\n",
    "X_train = train_data.iloc[:, 3].values  #text column\n",
    "y_train = train_data.iloc[:, 2].values  #sentiment column\n",
    "#Validation data\n",
    "val_data = pd.read_csv(val_file)\n",
    "X_val = val_data.iloc[:, 3].values  #text column\n",
    "y_val = val_data.iloc[:, 2].values  #sentiment column\n",
    "\n",
    "#encoded the label to a numerical tag for model to understand\n",
    "y_train = label_encoder.fit_transform(y_train)\n",
    "y_val = label_encoder.transform(y_val)\n"
   ],
   "metadata": {
    "collapsed": false,
    "ExecuteTime": {
     "start_time": "2023-06-24T22:32:28.446243Z",
     "end_time": "2023-06-24T22:32:28.681243Z"
    }
   }
  },
  {
   "cell_type": "code",
   "execution_count": 7,
   "outputs": [],
   "source": [
    "max_words = 5000  # Maximum number of words to consider\n",
    "max_len = 100  # Maximum length of a sequence\n",
    "X_train = np.array(X_train, dtype=str)\n",
    "X_val = np.array(X_val, dtype=str)\n",
    "# Tokenize and pad sequences\n",
    "tokenizer = Tokenizer(num_words=max_words)\n",
    "tokenizer.fit_on_texts(X_train)\n",
    "X_train_seq = tokenizer.texts_to_sequences(X_train)\n",
    "X_val_seq = tokenizer.texts_to_sequences(X_val)\n",
    "X_train_seq = keras.utils.pad_sequences(X_train_seq, maxlen=max_len)\n",
    "X_val_seq = keras.utils.pad_sequences(X_val_seq, maxlen=max_len)"
   ],
   "metadata": {
    "collapsed": false,
    "ExecuteTime": {
     "start_time": "2023-06-24T22:32:28.426242Z",
     "end_time": "2023-06-24T22:32:31.856242Z"
    }
   }
  },
  {
   "cell_type": "code",
   "execution_count": 8,
   "outputs": [],
   "source": [
    "embedding_dim = 100  # Dimensionality of word embeddings\n",
    "num_filters = 128  # Number of filters in the convolutional layer\n",
    "kernel_size = 3\n",
    "num_classes = len(label_encoder.classes_)  # Number of output classes\n",
    "model = Sequential()\n",
    "model.add(Embedding(max_words, embedding_dim, input_length=max_len))\n",
    "model.add(Conv1D(num_filters, kernel_size, activation='relu'))\n",
    "model.add(GlobalMaxPooling1D())\n",
    "model.add(Dense(num_classes, activation='softmax'))\n",
    "\n",
    "model.compile(loss='sparse_categorical_crossentropy', optimizer='adam', metrics=['accuracy'])\n",
    "\n",
    "\n"
   ],
   "metadata": {
    "collapsed": false,
    "ExecuteTime": {
     "start_time": "2023-06-24T22:32:31.861243Z",
     "end_time": "2023-06-24T22:32:31.968747Z"
    }
   }
  },
  {
   "cell_type": "code",
   "execution_count": 9,
   "outputs": [
    {
     "name": "stdout",
     "output_type": "stream",
     "text": [
      "Epoch 1/10\n",
      "2334/2334 [==============================] - 32s 14ms/step - loss: 0.8539 - accuracy: 0.6549 - val_loss: 0.3942 - val_accuracy: 0.8709\n",
      "Epoch 2/10\n",
      "2334/2334 [==============================] - 31s 13ms/step - loss: 0.4381 - accuracy: 0.8382 - val_loss: 0.2190 - val_accuracy: 0.9409\n",
      "Epoch 3/10\n",
      "2334/2334 [==============================] - 31s 13ms/step - loss: 0.2512 - accuracy: 0.9091 - val_loss: 0.1950 - val_accuracy: 0.9520\n",
      "Epoch 4/10\n",
      "2334/2334 [==============================] - 31s 13ms/step - loss: 0.1660 - accuracy: 0.9389 - val_loss: 0.1991 - val_accuracy: 0.9550\n",
      "Epoch 5/10\n",
      "2334/2334 [==============================] - 32s 14ms/step - loss: 0.1285 - accuracy: 0.9517 - val_loss: 0.2310 - val_accuracy: 0.9530\n",
      "Epoch 6/10\n",
      "2334/2334 [==============================] - 35s 15ms/step - loss: 0.1134 - accuracy: 0.9563 - val_loss: 0.2795 - val_accuracy: 0.9530\n",
      "Epoch 7/10\n",
      "2334/2334 [==============================] - 34s 14ms/step - loss: 0.1020 - accuracy: 0.9596 - val_loss: 0.2527 - val_accuracy: 0.9550\n",
      "Epoch 8/10\n",
      "2334/2334 [==============================] - 34s 15ms/step - loss: 0.0983 - accuracy: 0.9612 - val_loss: 0.2777 - val_accuracy: 0.9520\n",
      "Epoch 9/10\n",
      "2334/2334 [==============================] - 35s 15ms/step - loss: 0.0938 - accuracy: 0.9626 - val_loss: 0.3042 - val_accuracy: 0.9499\n",
      "Epoch 10/10\n",
      "2334/2334 [==============================] - 37s 16ms/step - loss: 0.0914 - accuracy: 0.9633 - val_loss: 0.2968 - val_accuracy: 0.9570\n"
     ]
    },
    {
     "data": {
      "text/plain": "<keras.callbacks.History at 0x24eb64eb910>"
     },
     "execution_count": 9,
     "metadata": {},
     "output_type": "execute_result"
    }
   ],
   "source": [
    "batch_size = 32\n",
    "epochs = 10\n",
    "\n",
    "model.fit(X_train_seq, y_train, batch_size=batch_size, epochs=epochs, validation_data=(X_val_seq, y_val))\n"
   ],
   "metadata": {
    "collapsed": false,
    "ExecuteTime": {
     "start_time": "2023-06-24T22:32:31.971747Z",
     "end_time": "2023-06-24T22:38:05.183041Z"
    }
   }
  },
  {
   "cell_type": "code",
   "execution_count": 10,
   "outputs": [
    {
     "name": "stdout",
     "output_type": "stream",
     "text": [
      "32/32 [==============================] - 0s 4ms/step - loss: 0.2968 - accuracy: 0.9570\n",
      "Validation loss: 0.2968013286590576\n",
      "Validation accuracy: 0.9569569826126099\n"
     ]
    }
   ],
   "source": [
    "loss, accuracy = model.evaluate(X_val_seq, y_val)\n",
    "print(f\"Validation loss: {loss}\")\n",
    "print(f\"Validation accuracy: {accuracy}\")"
   ],
   "metadata": {
    "collapsed": false,
    "ExecuteTime": {
     "start_time": "2023-06-24T22:38:05.186041Z",
     "end_time": "2023-06-24T22:38:05.399041Z"
    }
   }
  },
  {
   "cell_type": "code",
   "execution_count": 11,
   "outputs": [
    {
     "name": "stdout",
     "output_type": "stream",
     "text": [
      "32/32 [==============================] - 0s 4ms/step\n"
     ]
    },
    {
     "data": {
      "text/plain": "<Figure size 640x480 with 1 Axes>",
      "image/png": "[encoded data removed]"
     },
     "metadata": {},
     "output_type": "display_data"
    },
    {
     "name": "stdout",
     "output_type": "stream",
     "text": [
      "AUC (Positive): 0.989373160048826\n",
      "AUC (Negative): 0.9916752665978672\n",
      "AUC (Neutral): 0.9927972839185174\n"
     ]
    }
   ],
   "source": [
    "X_val_seq = keras.utils.pad_sequences(X_val_seq, maxlen=max_len)  # Pad validation sequences\n",
    "y_pred_probs = model.predict(X_val_seq)\n",
    "\n",
    "# Extract probabilities for each class\n",
    "class_probs = y_pred_probs[:, 1:]  # Exclude probabilities for the first class (irrelevant)\n",
    "\n",
    "# Calculate ROC curve and AUC for each class\n",
    "fpr = dict()\n",
    "tpr = dict()\n",
    "auc = dict()\n",
    "for i in range(num_classes - 1):\n",
    "    fpr[i], tpr[i], _ = roc_curve((y_val == i + 1).astype(int), class_probs[:, i])\n",
    "    auc[i] = roc_auc_score((y_val == i + 1).astype(int), class_probs[:, i])\n",
    "\n",
    "# Plot ROC curves for each class\n",
    "plt.figure()\n",
    "plt.plot(fpr[0], tpr[0], label='Positive')\n",
    "plt.plot(fpr[1], tpr[1], label='Negative')\n",
    "plt.plot(fpr[2], tpr[2], label='Neutral')\n",
    "plt.xlabel('False Positive Rate')\n",
    "plt.ylabel('True Positive Rate')\n",
    "plt.title('Receiver Operating Characteristic (ROC) Curve')\n",
    "plt.legend()\n",
    "plt.show()\n",
    "\n",
    "# Print AUC for each class\n",
    "print(f\"AUC (Positive): {auc[0]}\")\n",
    "print(f\"AUC (Negative): {auc[1]}\")\n",
    "print(f\"AUC (Neutral): {auc[2]}\")"
   ],
   "metadata": {
    "collapsed": false,
    "ExecuteTime": {
     "start_time": "2023-06-24T22:38:05.392042Z",
     "end_time": "2023-06-24T22:38:06.033057Z"
    }
   }
  },
  {
   "cell_type": "code",
   "execution_count": 19,
   "outputs": [
    {
     "name": "stdout",
     "output_type": "stream",
     "text": [
      "32/32 [==============================] - 0s 4ms/step\n",
      "              precision    recall  f1-score   support\n",
      "\n",
      "  Irrelevant       0.96      0.94      0.95       171\n",
      "    Negative       0.96      0.97      0.97       266\n",
      "     Neutral       0.95      0.96      0.96       285\n",
      "    Positive       0.95      0.95      0.95       277\n",
      "\n",
      "    accuracy                           0.96       999\n",
      "   macro avg       0.96      0.96      0.96       999\n",
      "weighted avg       0.96      0.96      0.96       999\n",
      "\n"
     ]
    }
   ],
   "source": [
    "y_pred = model.predict(X_val_seq)\n",
    "# Convert numerical labels to original labels\n",
    "y_pred_labels = np.argmax(y_pred, axis=1)\n",
    "y_pred_labels = label_encoder.inverse_transform(y_pred_labels)\n",
    "\n",
    "# Convert true labels to original labels\n",
    "y_val_labels = label_encoder.inverse_transform(y_val)\n",
    "\n",
    "# Generate classification report\n",
    "report = classification_report(y_val_labels, y_pred_labels)\n",
    "print(report)"
   ],
   "metadata": {
    "collapsed": false,
    "ExecuteTime": {
     "start_time": "2023-06-24T22:53:02.058213Z",
     "end_time": "2023-06-24T22:53:02.285212Z"
    }
   }
  },
  {
   "cell_type": "code",
   "execution_count": null,
   "outputs": [],
   "source": [],
   "metadata": {
    "collapsed": false
   }
  }
 ],
 "metadata": {
  "kernelspec": {
   "display_name": "Python 3",
   "language": "python",
   "name": "python3"
  },
  "language_info": {
   "codemirror_mode": {
    "name": "ipython",
    "version": 2
   },
   "file_extension": ".py",
   "mimetype": "text/x-python",
   "name": "python",
   "nbconvert_exporter": "python",
   "pygments_lexer": "ipython2",
   "version": "2.7.6"
  }
 },
 "nbformat": 4,
 "nbformat_minor": 0
}
