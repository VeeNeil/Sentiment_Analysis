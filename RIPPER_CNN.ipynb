{
 "cells": [
  {
   "cell_type": "code",
   "execution_count": 16,
   "metadata": {
    "ExecuteTime": {
     "start_time": "2023-10-13T10:54:01.805027Z",
     "end_time": "2023-10-13T10:54:01.854022Z"
    },
    "collapsed": true
   },
   "outputs": [],
   "source": [
    "import keras.utils\n",
    "from sklearn.preprocessing import LabelEncoder\n",
    "from keras.models import Sequential\n",
    "from keras.layers import Embedding, Dense, Conv1D, GlobalMaxPooling1D\n",
    "from keras.preprocessing.text import Tokenizer\n",
    "import pandas as pd\n",
    "from imblearn.over_sampling import BorderlineSMOTE\n",
    "from sklearn.model_selection import train_test_split\n",
    "from keras.utils import pad_sequences\n",
    "import numpy as np\n",
    "from sklearn.metrics import classification_report\n",
    "from collections import Counter\n",
    "import joblib\n"
   ]
  },
  {
   "cell_type": "code",
   "execution_count": 45,
   "metadata": {
    "ExecuteTime": {
     "start_time": "2023-10-13T14:40:34.961375Z",
     "end_time": "2023-10-13T14:40:35.043351Z"
    },
    "collapsed": false
   },
   "outputs": [],
   "source": [
    "data = pd.read_csv('combined_data.csv')\n",
    "\n",
    "# Split the data into features (X) and labels (y)\n",
    "X = data['Nhận xét đánh giá'].values\n",
    "y = data['Cảm xúc'].values\n",
    "label_encoder = LabelEncoder()\n",
    "\n",
    "# Encode the labels\n",
    "y_encoded = label_encoder.fit_transform(y)\n",
    "joblib.dump(y_encoded, \"label_encoder.pkl\")\n",
    "\n",
    "# Split the data into training and validation sets\n",
    "X_train, X_val, y_train, y_val = train_test_split(X, y_encoded, test_size=0.2, random_state=132)\n",
    "\n"
   ]
  },
  {
   "cell_type": "code",
   "execution_count": 6,
   "metadata": {
    "ExecuteTime": {
     "start_time": "2023-10-13T09:59:37.320798Z",
     "end_time": "2023-10-13T10:00:09.773933Z"
    },
    "collapsed": false
   },
   "outputs": [],
   "source": [
    "borderline_smote = BorderlineSMOTE(sampling_strategy='auto', random_state=132)\n",
    "\n",
    "max_words = 5000\n",
    "max_len = 1000\n",
    "tokenizer = Tokenizer(num_words=max_words)\n",
    "tokenizer.fit_on_texts(X_train)\n",
    "\n",
    "X_train_seq = tokenizer.texts_to_sequences(X_train)\n",
    "X_val_seq = tokenizer.texts_to_sequences(X_val)\n",
    "\n",
    "X_train_seq = pad_sequences(X_train_seq, maxlen=max_len)\n",
    "X_val_seq = pad_sequences(X_val_seq, maxlen=max_len)\n",
    "X_train_resampled, y_train_resampled = borderline_smote.fit_resample(X_train_seq, y_train)"
   ]
  },
  {
   "cell_type": "code",
   "execution_count": 6,
   "outputs": [
    {
     "name": "stdout",
     "output_type": "stream",
     "text": [
      "Class Distribution Before SMOTE:\n",
      "Class 4: 2992 samples\n",
      "Class 3: 2607 samples\n",
      "Class 5: 3587 samples\n",
      "Class 0: 3939 samples\n",
      "Class 1: 912 samples\n",
      "Class 2: 1251 samples\n",
      "\n",
      "Class Distribution After SMOTE:\n",
      "Class 4: 3939 samples\n",
      "Class 3: 3939 samples\n",
      "Class 5: 3939 samples\n",
      "Class 0: 3939 samples\n",
      "Class 1: 3939 samples\n",
      "Class 2: 3939 samples\n"
     ]
    }
   ],
   "source": [
    "class_distribution_before_SMOTE = Counter(y_train)\n",
    "\n",
    "class_distribution_after_SMOTE = Counter(y_train_resampled)\n",
    "\n",
    "print(\"Class Distribution Before SMOTE:\")\n",
    "for label, count in class_distribution_before_SMOTE.items():\n",
    "    print(f\"Class {label}: {count} samples\")\n",
    "\n",
    "# Print class distribution after SMOTE\n",
    "print(\"\\nClass Distribution After SMOTE:\")\n",
    "for label, count in class_distribution_after_SMOTE.items():\n",
    "    print(f\"Class {label}: {count} samples\")"
   ],
   "metadata": {
    "collapsed": false,
    "ExecuteTime": {
     "start_time": "2023-10-12T07:30:19.869024Z",
     "end_time": "2023-10-12T07:30:20.018666Z"
    }
   }
  },
  {
   "cell_type": "code",
   "execution_count": 13,
   "outputs": [],
   "source": [
    "\n",
    "# Build and compile your CNN model\n",
    "embedding_dim = 120\n",
    "num_filters = 128\n",
    "kernel_size = 5\n",
    "num_classes = len(np.unique(y_train_resampled))\n",
    "model = Sequential()\n",
    "model.add(Embedding(max_words, embedding_dim, input_length=max_len))\n",
    "model.add(Conv1D(num_filters, kernel_size, activation='relu'))\n",
    "model.add(GlobalMaxPooling1D())\n",
    "model.add(Dense(num_classes, activation='softmax'))\n",
    "\n",
    "optimizer = keras.optimizers.Adam(learning_rate=0.0007)\n",
    "model.compile(loss='sparse_categorical_crossentropy', optimizer=optimizer, metrics=['accuracy'])"
   ],
   "metadata": {
    "collapsed": false,
    "ExecuteTime": {
     "start_time": "2023-10-12T08:14:46.660840Z",
     "end_time": "2023-10-12T08:14:46.738837Z"
    }
   }
  },
  {
   "cell_type": "code",
   "execution_count": 15,
   "outputs": [
    {
     "name": "stdout",
     "output_type": "stream",
     "text": [
      "Epoch 1/100\n",
      "120/120 [==============================] - 114s 950ms/step - loss: 0.4645 - accuracy: 0.8393 - val_loss: 0.8316 - val_accuracy: 0.7039\n",
      "Epoch 2/100\n",
      "120/120 [==============================] - 113s 946ms/step - loss: 0.4379 - accuracy: 0.8488 - val_loss: 0.8432 - val_accuracy: 0.7042\n",
      "Epoch 3/100\n",
      "120/120 [==============================] - 110s 915ms/step - loss: 0.4158 - accuracy: 0.8553 - val_loss: 0.8534 - val_accuracy: 0.7083\n",
      "Epoch 4/100\n",
      "120/120 [==============================] - 114s 952ms/step - loss: 0.3935 - accuracy: 0.8682 - val_loss: 0.8729 - val_accuracy: 0.7104\n",
      "Epoch 5/100\n",
      "120/120 [==============================] - 123s 1s/step - loss: 0.3762 - accuracy: 0.8751 - val_loss: 0.8923 - val_accuracy: 0.7039\n",
      "Epoch 6/100\n",
      "120/120 [==============================] - 120s 998ms/step - loss: 0.3571 - accuracy: 0.8813 - val_loss: 0.9134 - val_accuracy: 0.7031\n",
      "Epoch 7/100\n",
      "120/120 [==============================] - 126s 1s/step - loss: 0.3448 - accuracy: 0.8842 - val_loss: 0.9334 - val_accuracy: 0.7023\n",
      "Epoch 8/100\n",
      "120/120 [==============================] - 132s 1s/step - loss: 0.3305 - accuracy: 0.8896 - val_loss: 0.9510 - val_accuracy: 0.6900\n",
      "Epoch 9/100\n",
      "120/120 [==============================] - 119s 990ms/step - loss: 0.3198 - accuracy: 0.8923 - val_loss: 0.9753 - val_accuracy: 0.7008\n",
      "Epoch 10/100\n",
      "120/120 [==============================] - 149s 1s/step - loss: 0.3102 - accuracy: 0.8949 - val_loss: 0.9945 - val_accuracy: 0.6911\n",
      "Epoch 11/100\n",
      "120/120 [==============================] - 119s 994ms/step - loss: 0.3025 - accuracy: 0.8963 - val_loss: 1.0017 - val_accuracy: 0.6858\n",
      "Epoch 12/100\n",
      "120/120 [==============================] - 116s 972ms/step - loss: 0.2919 - accuracy: 0.8992 - val_loss: 1.0316 - val_accuracy: 0.6885\n",
      "Epoch 13/100\n",
      "120/120 [==============================] - 100s 833ms/step - loss: 0.2873 - accuracy: 0.8986 - val_loss: 1.0502 - val_accuracy: 0.6892\n",
      "Epoch 14/100\n",
      "120/120 [==============================] - 113s 944ms/step - loss: 0.2827 - accuracy: 0.9008 - val_loss: 1.0671 - val_accuracy: 0.6913\n",
      "Epoch 15/100\n",
      "120/120 [==============================] - 123s 1s/step - loss: 0.2759 - accuracy: 0.9025 - val_loss: 1.0744 - val_accuracy: 0.6848\n",
      "Epoch 16/100\n",
      "120/120 [==============================] - 132s 1s/step - loss: 0.2707 - accuracy: 0.9048 - val_loss: 1.1002 - val_accuracy: 0.6861\n",
      "Epoch 17/100\n",
      "120/120 [==============================] - 114s 953ms/step - loss: 0.2670 - accuracy: 0.9046 - val_loss: 1.1127 - val_accuracy: 0.6877\n",
      "Epoch 18/100\n",
      "120/120 [==============================] - 118s 979ms/step - loss: 0.2628 - accuracy: 0.9064 - val_loss: 1.1354 - val_accuracy: 0.6788\n",
      "Epoch 19/100\n",
      "120/120 [==============================] - 102s 853ms/step - loss: 0.2608 - accuracy: 0.9050 - val_loss: 1.1445 - val_accuracy: 0.6866\n",
      "Epoch 20/100\n",
      "120/120 [==============================] - 115s 959ms/step - loss: 0.2587 - accuracy: 0.9055 - val_loss: 1.1596 - val_accuracy: 0.6861\n",
      "Epoch 21/100\n",
      "120/120 [==============================] - 109s 906ms/step - loss: 0.2544 - accuracy: 0.9052 - val_loss: 1.1860 - val_accuracy: 0.6793\n",
      "Epoch 22/100\n",
      "120/120 [==============================] - 126s 1s/step - loss: 0.2534 - accuracy: 0.9073 - val_loss: 1.1959 - val_accuracy: 0.6824\n",
      "Epoch 23/100\n",
      "120/120 [==============================] - 115s 963ms/step - loss: 0.2504 - accuracy: 0.9067 - val_loss: 1.2216 - val_accuracy: 0.6654\n",
      "Epoch 24/100\n",
      "120/120 [==============================] - 102s 850ms/step - loss: 0.2506 - accuracy: 0.9076 - val_loss: 1.2190 - val_accuracy: 0.6853\n",
      "Epoch 25/100\n",
      "120/120 [==============================] - 146s 1s/step - loss: 0.2478 - accuracy: 0.9078 - val_loss: 1.2358 - val_accuracy: 0.6858\n",
      "Epoch 26/100\n",
      "120/120 [==============================] - 133s 1s/step - loss: 0.2462 - accuracy: 0.9082 - val_loss: 1.2423 - val_accuracy: 0.6861\n",
      "Epoch 27/100\n",
      "120/120 [==============================] - 133s 1s/step - loss: 0.2467 - accuracy: 0.9067 - val_loss: 1.2482 - val_accuracy: 0.6827\n",
      "Epoch 28/100\n",
      "120/120 [==============================] - 143s 1s/step - loss: 0.2423 - accuracy: 0.9075 - val_loss: 1.2678 - val_accuracy: 0.6785\n",
      "Epoch 29/100\n",
      "120/120 [==============================] - 150s 1s/step - loss: 0.2428 - accuracy: 0.9074 - val_loss: 1.2769 - val_accuracy: 0.6793\n",
      "Epoch 30/100\n",
      "120/120 [==============================] - 180s 2s/step - loss: 0.2411 - accuracy: 0.9093 - val_loss: 1.2955 - val_accuracy: 0.6736\n",
      "Epoch 31/100\n",
      "120/120 [==============================] - 219s 2s/step - loss: 0.2410 - accuracy: 0.9091 - val_loss: 1.3044 - val_accuracy: 0.6840\n",
      "Epoch 32/100\n",
      "120/120 [==============================] - 146s 1s/step - loss: 0.2380 - accuracy: 0.9073 - val_loss: 1.3234 - val_accuracy: 0.6722\n",
      "Epoch 33/100\n",
      "120/120 [==============================] - 127s 1s/step - loss: 0.2381 - accuracy: 0.9103 - val_loss: 1.3294 - val_accuracy: 0.6759\n",
      "Epoch 34/100\n",
      "120/120 [==============================] - 125s 1s/step - loss: 0.2379 - accuracy: 0.9097 - val_loss: 1.3265 - val_accuracy: 0.6780\n",
      "Epoch 35/100\n",
      "120/120 [==============================] - 157s 1s/step - loss: 0.2357 - accuracy: 0.9096 - val_loss: 1.3419 - val_accuracy: 0.6827\n",
      "Epoch 36/100\n",
      "120/120 [==============================] - 123s 1s/step - loss: 0.2359 - accuracy: 0.9106 - val_loss: 1.3582 - val_accuracy: 0.6717\n",
      "Epoch 37/100\n",
      "120/120 [==============================] - 150s 1s/step - loss: 0.2365 - accuracy: 0.9087 - val_loss: 1.3624 - val_accuracy: 0.6809\n",
      "Epoch 38/100\n",
      "120/120 [==============================] - 247s 2s/step - loss: 0.2353 - accuracy: 0.9092 - val_loss: 1.3679 - val_accuracy: 0.6694\n",
      "Epoch 39/100\n",
      "120/120 [==============================] - 179s 1s/step - loss: 0.2345 - accuracy: 0.9093 - val_loss: 1.3876 - val_accuracy: 0.6702\n",
      "Epoch 40/100\n",
      "120/120 [==============================] - 140s 1s/step - loss: 0.2331 - accuracy: 0.9101 - val_loss: 1.3853 - val_accuracy: 0.6811\n",
      "Epoch 41/100\n",
      "120/120 [==============================] - 121s 1s/step - loss: 0.2348 - accuracy: 0.9091 - val_loss: 1.3893 - val_accuracy: 0.6785\n",
      "Epoch 42/100\n",
      "120/120 [==============================] - 117s 974ms/step - loss: 0.2340 - accuracy: 0.9095 - val_loss: 1.4061 - val_accuracy: 0.6683\n",
      "Epoch 43/100\n",
      "120/120 [==============================] - 127s 1s/step - loss: 0.2313 - accuracy: 0.9089 - val_loss: 1.4181 - val_accuracy: 0.6725\n",
      "Epoch 44/100\n",
      "120/120 [==============================] - 113s 944ms/step - loss: 0.2333 - accuracy: 0.9097 - val_loss: 1.4086 - val_accuracy: 0.6835\n",
      "Epoch 45/100\n",
      "120/120 [==============================] - 116s 966ms/step - loss: 0.2314 - accuracy: 0.9100 - val_loss: 1.4186 - val_accuracy: 0.6722\n",
      "Epoch 46/100\n",
      "120/120 [==============================] - 117s 974ms/step - loss: 0.2315 - accuracy: 0.9095 - val_loss: 1.4379 - val_accuracy: 0.6822\n",
      "Epoch 47/100\n",
      "120/120 [==============================] - 130s 1s/step - loss: 0.2327 - accuracy: 0.9106 - val_loss: 1.4275 - val_accuracy: 0.6722\n",
      "Epoch 48/100\n",
      "120/120 [==============================] - 123s 1s/step - loss: 0.2304 - accuracy: 0.9103 - val_loss: 1.4483 - val_accuracy: 0.6675\n",
      "Epoch 49/100\n",
      "120/120 [==============================] - 148s 1s/step - loss: 0.2323 - accuracy: 0.9100 - val_loss: 1.4627 - val_accuracy: 0.6688\n",
      "Epoch 50/100\n",
      "120/120 [==============================] - 164s 1s/step - loss: 0.2308 - accuracy: 0.9109 - val_loss: 1.4510 - val_accuracy: 0.6756\n",
      "Epoch 51/100\n",
      "120/120 [==============================] - 128s 1s/step - loss: 0.2295 - accuracy: 0.9106 - val_loss: 1.4573 - val_accuracy: 0.6728\n",
      "Epoch 52/100\n",
      "120/120 [==============================] - 131s 1s/step - loss: 0.2285 - accuracy: 0.9107 - val_loss: 1.4819 - val_accuracy: 0.6699\n",
      "Epoch 53/100\n",
      "120/120 [==============================] - 121s 1s/step - loss: 0.2297 - accuracy: 0.9097 - val_loss: 1.4895 - val_accuracy: 0.6634\n",
      "Epoch 54/100\n",
      "120/120 [==============================] - 120s 999ms/step - loss: 0.2288 - accuracy: 0.9105 - val_loss: 1.4773 - val_accuracy: 0.6751\n",
      "Epoch 55/100\n",
      "120/120 [==============================] - 117s 974ms/step - loss: 0.2306 - accuracy: 0.9101 - val_loss: 1.5033 - val_accuracy: 0.6777\n",
      "Epoch 56/100\n",
      "120/120 [==============================] - 115s 961ms/step - loss: 0.2307 - accuracy: 0.9112 - val_loss: 1.4880 - val_accuracy: 0.6699\n",
      "Epoch 57/100\n",
      "120/120 [==============================] - 142s 1s/step - loss: 0.2285 - accuracy: 0.9087 - val_loss: 1.4961 - val_accuracy: 0.6696\n",
      "Epoch 58/100\n",
      "120/120 [==============================] - 127s 1s/step - loss: 0.2292 - accuracy: 0.9113 - val_loss: 1.5029 - val_accuracy: 0.6764\n",
      "Epoch 59/100\n",
      "120/120 [==============================] - 125s 1s/step - loss: 0.2285 - accuracy: 0.9094 - val_loss: 1.5200 - val_accuracy: 0.6749\n",
      "Epoch 60/100\n",
      "120/120 [==============================] - 143s 1s/step - loss: 0.2281 - accuracy: 0.9112 - val_loss: 1.5061 - val_accuracy: 0.6725\n",
      "Epoch 61/100\n",
      "120/120 [==============================] - 138s 1s/step - loss: 0.2275 - accuracy: 0.9112 - val_loss: 1.5225 - val_accuracy: 0.6728\n",
      "Epoch 62/100\n",
      "120/120 [==============================] - 141s 1s/step - loss: 0.2265 - accuracy: 0.9110 - val_loss: 1.5180 - val_accuracy: 0.6688\n",
      "Epoch 63/100\n",
      "120/120 [==============================] - 102s 852ms/step - loss: 0.2293 - accuracy: 0.9108 - val_loss: 1.5141 - val_accuracy: 0.6725\n",
      "Epoch 64/100\n",
      "120/120 [==============================] - 99s 824ms/step - loss: 0.2266 - accuracy: 0.9109 - val_loss: 1.5279 - val_accuracy: 0.6772\n",
      "Epoch 65/100\n",
      "120/120 [==============================] - 99s 823ms/step - loss: 0.2270 - accuracy: 0.9100 - val_loss: 1.5320 - val_accuracy: 0.6654\n",
      "Epoch 66/100\n",
      "120/120 [==============================] - 100s 830ms/step - loss: 0.2271 - accuracy: 0.9113 - val_loss: 1.5404 - val_accuracy: 0.6623\n",
      "Epoch 67/100\n",
      "120/120 [==============================] - 100s 836ms/step - loss: 0.2275 - accuracy: 0.9115 - val_loss: 1.5486 - val_accuracy: 0.6673\n",
      "Epoch 68/100\n",
      "120/120 [==============================] - 99s 827ms/step - loss: 0.2265 - accuracy: 0.9101 - val_loss: 1.5452 - val_accuracy: 0.6754\n",
      "Epoch 69/100\n",
      "120/120 [==============================] - 100s 835ms/step - loss: 0.2259 - accuracy: 0.9107 - val_loss: 1.5873 - val_accuracy: 0.6699\n",
      "Epoch 70/100\n",
      "120/120 [==============================] - 101s 841ms/step - loss: 0.2278 - accuracy: 0.9095 - val_loss: 1.5519 - val_accuracy: 0.6728\n",
      "Epoch 71/100\n",
      "120/120 [==============================] - 100s 830ms/step - loss: 0.2264 - accuracy: 0.9110 - val_loss: 1.5703 - val_accuracy: 0.6647\n",
      "Epoch 72/100\n",
      "120/120 [==============================] - 99s 828ms/step - loss: 0.2254 - accuracy: 0.9118 - val_loss: 1.5746 - val_accuracy: 0.6647\n",
      "Epoch 73/100\n",
      "120/120 [==============================] - 100s 833ms/step - loss: 0.2261 - accuracy: 0.9096 - val_loss: 1.5627 - val_accuracy: 0.6749\n",
      "Epoch 74/100\n",
      "120/120 [==============================] - 100s 836ms/step - loss: 0.2276 - accuracy: 0.9094 - val_loss: 1.5672 - val_accuracy: 0.6756\n",
      "Epoch 75/100\n",
      "120/120 [==============================] - 100s 831ms/step - loss: 0.2256 - accuracy: 0.9110 - val_loss: 1.5892 - val_accuracy: 0.6704\n",
      "Epoch 76/100\n",
      "120/120 [==============================] - 100s 834ms/step - loss: 0.2274 - accuracy: 0.9099 - val_loss: 1.5849 - val_accuracy: 0.6715\n",
      "Epoch 77/100\n",
      "120/120 [==============================] - 101s 841ms/step - loss: 0.2245 - accuracy: 0.9114 - val_loss: 1.5827 - val_accuracy: 0.6743\n",
      "Epoch 78/100\n",
      "120/120 [==============================] - 100s 838ms/step - loss: 0.2260 - accuracy: 0.9106 - val_loss: 1.5992 - val_accuracy: 0.6670\n",
      "Epoch 79/100\n",
      "120/120 [==============================] - 104s 867ms/step - loss: 0.2261 - accuracy: 0.9115 - val_loss: 1.5902 - val_accuracy: 0.6691\n",
      "Epoch 80/100\n",
      "120/120 [==============================] - 102s 847ms/step - loss: 0.2253 - accuracy: 0.9110 - val_loss: 1.5907 - val_accuracy: 0.6736\n",
      "Epoch 81/100\n",
      "120/120 [==============================] - 103s 859ms/step - loss: 0.2257 - accuracy: 0.9110 - val_loss: 1.6045 - val_accuracy: 0.6681\n",
      "Epoch 82/100\n",
      "120/120 [==============================] - 102s 848ms/step - loss: 0.2252 - accuracy: 0.9111 - val_loss: 1.5936 - val_accuracy: 0.6712\n",
      "Epoch 83/100\n",
      "120/120 [==============================] - 102s 850ms/step - loss: 0.2264 - accuracy: 0.9101 - val_loss: 1.6230 - val_accuracy: 0.6733\n",
      "Epoch 84/100\n",
      "120/120 [==============================] - 102s 853ms/step - loss: 0.2249 - accuracy: 0.9107 - val_loss: 1.6065 - val_accuracy: 0.6728\n",
      "Epoch 85/100\n",
      "120/120 [==============================] - 103s 855ms/step - loss: 0.2247 - accuracy: 0.9111 - val_loss: 1.6369 - val_accuracy: 0.6665\n",
      "Epoch 86/100\n",
      "120/120 [==============================] - 102s 854ms/step - loss: 0.2242 - accuracy: 0.9117 - val_loss: 1.6113 - val_accuracy: 0.6654\n",
      "Epoch 87/100\n",
      "120/120 [==============================] - 109s 909ms/step - loss: 0.2245 - accuracy: 0.9112 - val_loss: 1.6237 - val_accuracy: 0.6704\n",
      "Epoch 88/100\n",
      "120/120 [==============================] - 110s 914ms/step - loss: 0.2248 - accuracy: 0.9096 - val_loss: 1.6339 - val_accuracy: 0.6720\n",
      "Epoch 89/100\n",
      "120/120 [==============================] - 103s 856ms/step - loss: 0.2243 - accuracy: 0.9105 - val_loss: 1.6369 - val_accuracy: 0.6702\n",
      "Epoch 90/100\n",
      "120/120 [==============================] - 103s 856ms/step - loss: 0.2249 - accuracy: 0.9107 - val_loss: 1.6307 - val_accuracy: 0.6741\n",
      "Epoch 91/100\n",
      "120/120 [==============================] - 102s 851ms/step - loss: 0.2254 - accuracy: 0.9103 - val_loss: 1.6467 - val_accuracy: 0.6777\n",
      "Epoch 92/100\n",
      "120/120 [==============================] - 102s 846ms/step - loss: 0.2245 - accuracy: 0.9109 - val_loss: 1.6559 - val_accuracy: 0.6660\n",
      "Epoch 93/100\n",
      "120/120 [==============================] - 104s 865ms/step - loss: 0.2237 - accuracy: 0.9123 - val_loss: 1.6462 - val_accuracy: 0.6702\n",
      "Epoch 94/100\n",
      "120/120 [==============================] - 102s 852ms/step - loss: 0.2242 - accuracy: 0.9110 - val_loss: 1.6399 - val_accuracy: 0.6738\n",
      "Epoch 95/100\n",
      "120/120 [==============================] - 102s 849ms/step - loss: 0.2256 - accuracy: 0.9106 - val_loss: 1.6462 - val_accuracy: 0.6691\n",
      "Epoch 96/100\n",
      "120/120 [==============================] - 103s 858ms/step - loss: 0.2246 - accuracy: 0.9106 - val_loss: 1.6557 - val_accuracy: 0.6725\n",
      "Epoch 97/100\n",
      "120/120 [==============================] - 107s 888ms/step - loss: 0.2235 - accuracy: 0.9113 - val_loss: 1.6546 - val_accuracy: 0.6699\n",
      "Epoch 98/100\n",
      "120/120 [==============================] - 98s 817ms/step - loss: 0.2227 - accuracy: 0.9125 - val_loss: 1.6722 - val_accuracy: 0.6647\n",
      "Epoch 99/100\n",
      "120/120 [==============================] - 97s 808ms/step - loss: 0.2243 - accuracy: 0.9110 - val_loss: 1.6608 - val_accuracy: 0.6673\n",
      "Epoch 100/100\n",
      "120/120 [==============================] - 98s 814ms/step - loss: 0.2228 - accuracy: 0.9114 - val_loss: 1.6714 - val_accuracy: 0.6691\n"
     ]
    },
    {
     "data": {
      "text/plain": "<keras.callbacks.History at 0x186099ed490>"
     },
     "execution_count": 15,
     "metadata": {},
     "output_type": "execute_result"
    }
   ],
   "source": [
    "batch_size = 128\n",
    "epochs = 100\n",
    "\n",
    "model.fit(X_train_seq, y_train, batch_size=batch_size, epochs=epochs, validation_data=(X_val_seq, y_val))"
   ],
   "metadata": {
    "collapsed": false,
    "ExecuteTime": {
     "start_time": "2023-10-12T08:36:59.691748Z",
     "end_time": "2023-10-12T11:57:03.770600Z"
    }
   }
  },
  {
   "cell_type": "code",
   "execution_count": 16,
   "metadata": {
    "ExecuteTime": {
     "start_time": "2023-10-12T11:58:09.954253Z",
     "end_time": "2023-10-12T11:58:16.405902Z"
    },
    "collapsed": false
   },
   "outputs": [
    {
     "name": "stdout",
     "output_type": "stream",
     "text": [
      "120/120 [==============================] - 6s 44ms/step\n",
      "                 precision    recall  f1-score   support\n",
      "\n",
      "    bình thường       0.63      0.49      0.55       977\n",
      "không liên quan       0.93      0.96      0.94       230\n",
      "         rất tệ       0.70      0.75      0.73       325\n",
      "        rất tốt       0.53      0.56      0.55       632\n",
      "             tệ       0.87      0.81      0.84       789\n",
      "            tốt       0.58      0.71      0.64       870\n",
      "\n",
      "       accuracy                           0.67      3823\n",
      "      macro avg       0.71      0.71      0.71      3823\n",
      "   weighted avg       0.67      0.67      0.67      3823\n",
      "\n"
     ]
    }
   ],
   "source": [
    "y_pred = model.predict(X_val_seq)\n",
    "# Convert numerical labels to original labels\n",
    "y_pred_labels = np.argmax(y_pred, axis=1)\n",
    "y_pred_labels = label_encoder.inverse_transform(y_pred_labels)\n",
    "\n",
    "# Convert true labels to original labels\n",
    "y_val_labels = label_encoder.inverse_transform(y_val)\n",
    "\n",
    "# Generate classification report\n",
    "report = classification_report(y_val_labels, y_pred_labels)\n",
    "print(report)"
   ]
  },
  {
   "cell_type": "code",
   "execution_count": 17,
   "metadata": {
    "collapsed": false,
    "ExecuteTime": {
     "start_time": "2023-10-12T20:55:49.670078Z",
     "end_time": "2023-10-12T20:55:50.637263Z"
    }
   },
   "outputs": [],
   "source": [
    "model.save(\"Sentiment_Analysis_Model.h5\")"
   ]
  },
  {
   "cell_type": "code",
   "execution_count": 46,
   "outputs": [
    {
     "name": "stdout",
     "output_type": "stream",
     "text": [
      "1/1 [==============================] - 0s 60ms/step\n",
      "Predicted Sentiment: rất tốt\n"
     ]
    }
   ],
   "source": [
    "custom_text = \"tối cảm thấy sản phẩm rất tệ\"\n",
    "\n",
    "# Tokenize and pad the custom text\n",
    "custom_text_seq = tokenizer.texts_to_sequences([custom_text])\n",
    "custom_text_seq = keras.utils.pad_sequences(custom_text_seq, maxlen=max_len)\n",
    "\n",
    "# Make predictions on the custom text\n",
    "custom_text_pred = model.predict(custom_text_seq)\n",
    "\n",
    "# Convert numerical labels to original labels\n",
    "custom_text_pred_label = np.argmax(custom_text_pred, axis=1)\n",
    "custom_text_pred_label = label_encoder.inverse_transform(custom_text_pred_label)\n",
    "\n",
    "# Print the predicted label\n",
    "print(f\"Predicted Sentiment: {custom_text_pred_label[0]}\")"
   ],
   "metadata": {
    "collapsed": false,
    "ExecuteTime": {
     "start_time": "2023-10-13T14:40:41.390217Z",
     "end_time": "2023-10-13T14:40:41.616216Z"
    }
   }
  },
  {
   "cell_type": "code",
   "execution_count": 53,
   "outputs": [
    {
     "name": "stdout",
     "output_type": "stream",
     "text": [
      "1/1 [==============================] - 0s 59ms/step\n",
      "Predicted Sentiment: bình thường\n"
     ]
    }
   ],
   "source": [],
   "metadata": {
    "collapsed": false,
    "ExecuteTime": {
     "start_time": "2023-10-13T14:41:54.997955Z",
     "end_time": "2023-10-13T14:41:55.216149Z"
    }
   }
  },
  {
   "cell_type": "code",
   "execution_count": null,
   "outputs": [],
   "source": [],
   "metadata": {
    "collapsed": false
   }
  }
 ],
 "metadata": {
  "kernelspec": {
   "display_name": "Python 3",
   "language": "python",
   "name": "python3"
  },
  "language_info": {
   "codemirror_mode": {
    "name": "ipython",
    "version": 3
   },
   "file_extension": ".py",
   "mimetype": "text/x-python",
   "name": "python",
   "nbconvert_exporter": "python",
   "pygments_lexer": "ipython3",
   "version": "3.10.12"
  }
 },
 "nbformat": 4,
 "nbformat_minor": 0
}
